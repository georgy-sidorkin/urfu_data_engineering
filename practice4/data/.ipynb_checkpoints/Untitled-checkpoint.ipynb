{
 "cells": [
  {
   "cell_type": "code",
   "execution_count": 16,
   "id": "36e0c69f",
   "metadata": {},
   "outputs": [],
   "source": [
    "import pandas as pd"
   ]
  },
  {
   "cell_type": "code",
   "execution_count": 27,
   "id": "04f1ae84",
   "metadata": {},
   "outputs": [],
   "source": [
    "N = 500_000\n",
    "RAND = 10"
   ]
  },
  {
   "cell_type": "code",
   "execution_count": 78,
   "id": "3ddab34b",
   "metadata": {},
   "outputs": [],
   "source": [
    "games = pd.read_csv(\"games.csv\")"
   ]
  },
  {
   "cell_type": "code",
   "execution_count": 79,
   "id": "eb4837d9",
   "metadata": {},
   "outputs": [],
   "source": [
    "games_sample = games.sample(n=1000, random_state=RAND)\n",
    "games_sample.to_csv(\"games_sample.csv\", index=False)"
   ]
  },
  {
   "cell_type": "code",
   "execution_count": 67,
   "id": "c4d29e31",
   "metadata": {},
   "outputs": [
    {
     "data": {
      "text/plain": [
       "0       376200\n",
       "1      1100260\n",
       "2       920200\n",
       "3      1368571\n",
       "4      1098940\n",
       "        ...   \n",
       "995    1518690\n",
       "996    1724540\n",
       "997     616040\n",
       "998    1287310\n",
       "999     267960\n",
       "Name: app_id, Length: 1000, dtype: int64"
      ]
     },
     "execution_count": 67,
     "metadata": {},
     "output_type": "execute_result"
    }
   ],
   "source": [
    "games_samp.app_id"
   ]
  },
  {
   "cell_type": "code",
   "execution_count": 68,
   "id": "4ba4646e",
   "metadata": {},
   "outputs": [],
   "source": [
    "rec = pd.read_csv(\"recommendations.csv\")"
   ]
  },
  {
   "cell_type": "code",
   "execution_count": 80,
   "id": "593371cf",
   "metadata": {},
   "outputs": [],
   "source": [
    "rec_sam = pd.merge(games_samp.app_id, rec, on=\"app_id\")"
   ]
  },
  {
   "cell_type": "code",
   "execution_count": 82,
   "id": "d4b0a824",
   "metadata": {},
   "outputs": [],
   "source": [
    "rec_sam.to_csv(\"recommendations_sample.csv\", index=False)"
   ]
  },
  {
   "cell_type": "code",
   "execution_count": 71,
   "id": "49f5265e",
   "metadata": {},
   "outputs": [
    {
     "data": {
      "text/plain": [
       "0         12081912\n",
       "1          9708932\n",
       "2          6183481\n",
       "3         13962754\n",
       "4          7797924\n",
       "            ...   \n",
       "580562     1106689\n",
       "580563     5507917\n",
       "580564     1484734\n",
       "580565     6825746\n",
       "580566     1915759\n",
       "Name: user_id, Length: 580567, dtype: int64"
      ]
     },
     "execution_count": 71,
     "metadata": {},
     "output_type": "execute_result"
    }
   ],
   "source": [
    "rec_sam.user_id"
   ]
  },
  {
   "cell_type": "code",
   "execution_count": 72,
   "id": "0e8feb21",
   "metadata": {},
   "outputs": [],
   "source": [
    "users = pd.read_csv(\"users.csv\")"
   ]
  },
  {
   "cell_type": "code",
   "execution_count": 73,
   "id": "812b6024",
   "metadata": {},
   "outputs": [],
   "source": [
    "users_samp = pd.merge(users, rec_sam.user_id, on=\"user_id\")"
   ]
  },
  {
   "cell_type": "code",
   "execution_count": 83,
   "id": "628faabd",
   "metadata": {},
   "outputs": [],
   "source": [
    "users_samp.to_csv(\"users_sample.csv\", index=False)"
   ]
  },
  {
   "cell_type": "code",
   "execution_count": 76,
   "id": "09afb5ea",
   "metadata": {},
   "outputs": [],
   "source": [
    "df = pd.read_json(\"games_metadata.json\", lines=True)"
   ]
  },
  {
   "cell_type": "code",
   "execution_count": 84,
   "id": "fd6615cd",
   "metadata": {},
   "outputs": [],
   "source": [
    "games_metadata_sample = pd.merge(games_samp.app_id, df, on=\"app_id\")"
   ]
  },
  {
   "cell_type": "code",
   "execution_count": 86,
   "id": "2cf6ab5a",
   "metadata": {},
   "outputs": [],
   "source": [
    "games_metadata_sample.to_csv(\"games_metadata_sample.csv\", index=False)"
   ]
  },
  {
   "cell_type": "code",
   "execution_count": null,
   "id": "b2e8935d",
   "metadata": {},
   "outputs": [],
   "source": []
  }
 ],
 "metadata": {
  "kernelspec": {
   "display_name": "Python 3 (ipykernel)",
   "language": "python",
   "name": "python3"
  },
  "language_info": {
   "codemirror_mode": {
    "name": "ipython",
    "version": 3
   },
   "file_extension": ".py",
   "mimetype": "text/x-python",
   "name": "python",
   "nbconvert_exporter": "python",
   "pygments_lexer": "ipython3",
   "version": "3.9.10"
  },
  "toc": {
   "base_numbering": 1,
   "nav_menu": {},
   "number_sections": true,
   "sideBar": true,
   "skip_h1_title": false,
   "title_cell": "Table of Contents",
   "title_sidebar": "Contents",
   "toc_cell": false,
   "toc_position": {},
   "toc_section_display": true,
   "toc_window_display": false
  }
 },
 "nbformat": 4,
 "nbformat_minor": 5
}
